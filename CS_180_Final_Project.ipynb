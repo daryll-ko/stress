{
  "nbformat": 4,
  "nbformat_minor": 0,
  "metadata": {
    "colab": {
      "provenance": []
    },
    "kernelspec": {
      "name": "python3",
      "display_name": "Python 3"
    },
    "language_info": {
      "name": "python"
    }
  },
  "cells": [
    {
      "cell_type": "markdown",
      "source": [
        "# CS 180 Final Project: Classifying stress levels by applying $k$-nearest neighbors using different lifestyle factors"
      ],
      "metadata": {
        "id": "lF3RmUN2onbA"
      }
    },
    {
      "cell_type": "code",
      "source": [
        "from google.colab import drive\n",
        "drive.mount('/content/drive')"
      ],
      "metadata": {
        "id": "zduttT3Kq3CC"
      },
      "execution_count": null,
      "outputs": []
    },
    {
      "cell_type": "code",
      "execution_count": null,
      "metadata": {
        "id": "3NvRyNiLok0N"
      },
      "outputs": [],
      "source": []
    }
  ]
}