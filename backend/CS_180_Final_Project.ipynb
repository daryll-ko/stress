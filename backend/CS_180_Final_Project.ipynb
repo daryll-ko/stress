{
  "cells": [
    {
      "cell_type": "markdown",
      "metadata": {
        "id": "lF3RmUN2onbA"
      },
      "source": [
        "# CS 180 Final Project: Classifying stress levels by applying $k$-nearest neighbors using different lifestyle factors"
      ]
    },
    {
      "cell_type": "code",
      "execution_count": 362,
      "metadata": {},
      "outputs": [],
      "source": [
        "import pandas as pd\n",
        "from sklearn.preprocessing import MinMaxScaler\n",
        "from sklearn.model_selection import train_test_split\n",
        "from sklearn.preprocessing import LabelEncoder\n",
        "from sklearn.neighbors import KNeighborsClassifier\n",
        "from sklearn.metrics import classification_report, confusion_matrix\n",
        "import numpy as np\n",
        "import matplotlib.pyplot as plt\n",
        "import seaborn as sns"
      ]
    },
    {
      "cell_type": "code",
      "execution_count": 363,
      "metadata": {
        "id": "zduttT3Kq3CC"
      },
      "outputs": [
        {
          "name": "stdout",
          "output_type": "stream",
          "text": [
            "  Timestamp  FRUITS_VEGGIES DAILY_STRESS  PLACES_VISITED  CORE_CIRCLE  \\\n",
            "0    7/7/15               3            2               2            5   \n",
            "1    7/7/15               2            3               4            3   \n",
            "2    7/7/15               2            3               3            4   \n",
            "3    7/7/15               3            3              10            3   \n",
            "4    7/7/15               5            1               3            3   \n",
            "\n",
            "   SUPPORTING_OTHERS  SOCIAL_NETWORK  ACHIEVEMENT  DONATION  BMI_RANGE  ...  \\\n",
            "0                  0               5            2         0          1  ...   \n",
            "1                  8              10            5         2          2  ...   \n",
            "2                  4              10            3         2          2  ...   \n",
            "3                 10               7            2         5          2  ...   \n",
            "4                 10               4            2         4          2  ...   \n",
            "\n",
            "   SLEEP_HOURS  LOST_VACATION  DAILY_SHOUTING  SUFFICIENT_INCOME  \\\n",
            "0            7              5               5                  1   \n",
            "1            8              2               2                  2   \n",
            "2            8             10               2                  2   \n",
            "3            5              7               5                  1   \n",
            "4            7              0               0                  2   \n",
            "\n",
            "   PERSONAL_AWARDS  TIME_FOR_PASSION  WEEKLY_MEDITATION         AGE  GENDER  \\\n",
            "0                4                 0                  5    36 to 50  Female   \n",
            "1                3                 2                  6    36 to 50  Female   \n",
            "2                4                 8                  3    36 to 50  Female   \n",
            "3                5                 2                  0  51 or more  Female   \n",
            "4                8                 1                  5  51 or more  Female   \n",
            "\n",
            "   WORK_LIFE_BALANCE_SCORE  \n",
            "0                    609.5  \n",
            "1                    655.6  \n",
            "2                    631.6  \n",
            "3                    622.7  \n",
            "4                    663.9  \n",
            "\n",
            "[5 rows x 24 columns]\n"
          ]
        }
      ],
      "source": [
        "file_url = 'https://raw.githubusercontent.com/daryll-ko/stress/18a2bd7178aa1cfe48c027b1e2e03f9dbfeed161/Wellbeing_and_lifestyle_data_Kaggle.csv'\n",
        "df = pd.read_csv(file_url)\n",
        "print(df.head())"
      ]
    },
    {
      "cell_type": "markdown",
      "metadata": {},
      "source": [
        "## Preprocessing"
      ]
    },
    {
      "cell_type": "code",
      "execution_count": 364,
      "metadata": {
        "id": "3NvRyNiLok0N"
      },
      "outputs": [
        {
          "name": "stdout",
          "output_type": "stream",
          "text": [
            "<class 'pandas.core.frame.DataFrame'>\n",
            "RangeIndex: 15972 entries, 0 to 15971\n",
            "Data columns (total 24 columns):\n",
            " #   Column                   Non-Null Count  Dtype  \n",
            "---  ------                   --------------  -----  \n",
            " 0   Timestamp                15972 non-null  object \n",
            " 1   FRUITS_VEGGIES           15972 non-null  int64  \n",
            " 2   DAILY_STRESS             15972 non-null  object \n",
            " 3   PLACES_VISITED           15972 non-null  int64  \n",
            " 4   CORE_CIRCLE              15972 non-null  int64  \n",
            " 5   SUPPORTING_OTHERS        15972 non-null  int64  \n",
            " 6   SOCIAL_NETWORK           15972 non-null  int64  \n",
            " 7   ACHIEVEMENT              15972 non-null  int64  \n",
            " 8   DONATION                 15972 non-null  int64  \n",
            " 9   BMI_RANGE                15972 non-null  int64  \n",
            " 10  TODO_COMPLETED           15972 non-null  int64  \n",
            " 11  FLOW                     15972 non-null  int64  \n",
            " 12  DAILY_STEPS              15972 non-null  int64  \n",
            " 13  LIVE_VISION              15972 non-null  int64  \n",
            " 14  SLEEP_HOURS              15972 non-null  int64  \n",
            " 15  LOST_VACATION            15972 non-null  int64  \n",
            " 16  DAILY_SHOUTING           15972 non-null  int64  \n",
            " 17  SUFFICIENT_INCOME        15972 non-null  int64  \n",
            " 18  PERSONAL_AWARDS          15972 non-null  int64  \n",
            " 19  TIME_FOR_PASSION         15972 non-null  int64  \n",
            " 20  WEEKLY_MEDITATION        15972 non-null  int64  \n",
            " 21  AGE                      15972 non-null  object \n",
            " 22  GENDER                   15972 non-null  object \n",
            " 23  WORK_LIFE_BALANCE_SCORE  15972 non-null  float64\n",
            "dtypes: float64(1), int64(19), object(4)\n",
            "memory usage: 2.9+ MB\n"
          ]
        }
      ],
      "source": [
        "df.info()"
      ]
    },
    {
      "cell_type": "markdown",
      "metadata": {},
      "source": [
        "Its great that we have no null values, let's just handle our categorical fields."
      ]
    },
    {
      "cell_type": "code",
      "execution_count": 365,
      "metadata": {},
      "outputs": [
        {
          "data": {
            "text/plain": [
              "Index(['FRUITS_VEGGIES', 'DAILY_STRESS', 'PLACES_VISITED', 'CORE_CIRCLE',\n",
              "       'SUPPORTING_OTHERS', 'SOCIAL_NETWORK', 'ACHIEVEMENT', 'DONATION',\n",
              "       'BMI_RANGE', 'TODO_COMPLETED', 'FLOW', 'DAILY_STEPS', 'LIVE_VISION',\n",
              "       'SLEEP_HOURS', 'LOST_VACATION', 'DAILY_SHOUTING', 'SUFFICIENT_INCOME',\n",
              "       'PERSONAL_AWARDS', 'TIME_FOR_PASSION', 'WEEKLY_MEDITATION', 'AGE',\n",
              "       'GENDER', 'WORK_LIFE_BALANCE_SCORE'],\n",
              "      dtype='object')"
            ]
          },
          "execution_count": 365,
          "metadata": {},
          "output_type": "execute_result"
        }
      ],
      "source": [
        "# Drop the 'Timestamp' field\n",
        "\n",
        "df.drop([\"Timestamp\"], axis=1, inplace=True)\n",
        "df.columns"
      ]
    },
    {
      "cell_type": "markdown",
      "metadata": {},
      "source": [
        "Now let's look at our 'DAILY_STRESS' field. Weird how its of type object when its values are suppose to be between integers 0-5. There must be a mismatched value!"
      ]
    },
    {
      "cell_type": "code",
      "execution_count": 366,
      "metadata": {},
      "outputs": [
        {
          "name": "stdout",
          "output_type": "stream",
          "text": [
            "       FRUITS_VEGGIES DAILY_STRESS  PLACES_VISITED  CORE_CIRCLE  \\\n",
            "10005               3       1/1/00               1            2   \n",
            "\n",
            "       SUPPORTING_OTHERS  SOCIAL_NETWORK  ACHIEVEMENT  DONATION  BMI_RANGE  \\\n",
            "10005                 10              10            5         5          2   \n",
            "\n",
            "       TODO_COMPLETED  ...  SLEEP_HOURS  LOST_VACATION  DAILY_SHOUTING  \\\n",
            "10005               6  ...            6             10               1   \n",
            "\n",
            "       SUFFICIENT_INCOME  PERSONAL_AWARDS  TIME_FOR_PASSION  \\\n",
            "10005                  2               10                 8   \n",
            "\n",
            "       WEEKLY_MEDITATION       AGE  GENDER  WORK_LIFE_BALANCE_SCORE  \n",
            "10005                  2  21 to 35    Male                    682.6  \n",
            "\n",
            "[1 rows x 23 columns]\n"
          ]
        }
      ],
      "source": [
        "mismatched_row = df[~df['DAILY_STRESS'].str.match(r'^[0-5]$', na=False)]\n",
        "print(mismatched_row)"
      ]
    },
    {
      "cell_type": "markdown",
      "metadata": {},
      "source": [
        "DAILY_STRESS of 1/1/00 how'd that get there 🤷‍♂️"
      ]
    },
    {
      "cell_type": "code",
      "execution_count": 367,
      "metadata": {},
      "outputs": [
        {
          "name": "stdout",
          "output_type": "stream",
          "text": [
            "count    15971.000000\n",
            "mean         2.791685\n",
            "std          1.367801\n",
            "min          0.000000\n",
            "25%          2.000000\n",
            "50%          3.000000\n",
            "75%          4.000000\n",
            "max          5.000000\n",
            "Name: DAILY_STRESS, dtype: float64\n"
          ]
        }
      ],
      "source": [
        "# Convert 'DAILY_STRESS' field to numeric\n",
        "\n",
        "df['DAILY_STRESS'] = pd.to_numeric(df['DAILY_STRESS'], errors='coerce')\n",
        "print(df['DAILY_STRESS'].describe())"
      ]
    },
    {
      "cell_type": "code",
      "execution_count": 368,
      "metadata": {},
      "outputs": [],
      "source": [
        "# Fill in mismatched value in 'DAILY_STRESS' with the integer mean of the column\n",
        "\n",
        "average_stress = round(df['DAILY_STRESS'].mean())\n",
        "df['DAILY_STRESS'].fillna(average_stress, inplace=True)"
      ]
    },
    {
      "cell_type": "code",
      "execution_count": 369,
      "metadata": {},
      "outputs": [
        {
          "name": "stdout",
          "output_type": "stream",
          "text": [
            "<class 'pandas.core.frame.DataFrame'>\n",
            "RangeIndex: 15972 entries, 0 to 15971\n",
            "Data columns (total 23 columns):\n",
            " #   Column                   Non-Null Count  Dtype  \n",
            "---  ------                   --------------  -----  \n",
            " 0   FRUITS_VEGGIES           15972 non-null  int64  \n",
            " 1   DAILY_STRESS             15972 non-null  float64\n",
            " 2   PLACES_VISITED           15972 non-null  int64  \n",
            " 3   CORE_CIRCLE              15972 non-null  int64  \n",
            " 4   SUPPORTING_OTHERS        15972 non-null  int64  \n",
            " 5   SOCIAL_NETWORK           15972 non-null  int64  \n",
            " 6   ACHIEVEMENT              15972 non-null  int64  \n",
            " 7   DONATION                 15972 non-null  int64  \n",
            " 8   BMI_RANGE                15972 non-null  int64  \n",
            " 9   TODO_COMPLETED           15972 non-null  int64  \n",
            " 10  FLOW                     15972 non-null  int64  \n",
            " 11  DAILY_STEPS              15972 non-null  int64  \n",
            " 12  LIVE_VISION              15972 non-null  int64  \n",
            " 13  SLEEP_HOURS              15972 non-null  int64  \n",
            " 14  LOST_VACATION            15972 non-null  int64  \n",
            " 15  DAILY_SHOUTING           15972 non-null  int64  \n",
            " 16  SUFFICIENT_INCOME        15972 non-null  int64  \n",
            " 17  PERSONAL_AWARDS          15972 non-null  int64  \n",
            " 18  TIME_FOR_PASSION         15972 non-null  int64  \n",
            " 19  WEEKLY_MEDITATION        15972 non-null  int64  \n",
            " 20  AGE                      15972 non-null  int32  \n",
            " 21  GENDER                   15972 non-null  int32  \n",
            " 22  WORK_LIFE_BALANCE_SCORE  15972 non-null  float64\n",
            "dtypes: float64(2), int32(2), int64(19)\n",
            "memory usage: 2.7 MB\n",
            "None\n"
          ]
        }
      ],
      "source": [
        "# Encode the 'GENDER' and 'AGE' fields\n",
        "\n",
        "label_encoder = LabelEncoder()\n",
        "df['GENDER'] = label_encoder.fit_transform(df['GENDER'])    # 0: Female, 1: Male\n",
        "df['AGE'] = label_encoder.fit_transform(df['AGE'])          # 1: 36-50, 2: > 50, 0: 21-35 3: < 20\n",
        "\n",
        "print(df.info())"
      ]
    },
    {
      "cell_type": "code",
      "execution_count": 370,
      "metadata": {},
      "outputs": [],
      "source": [
        "X = df.drop(['DAILY_STRESS'], axis = 1)\n",
        "y = df['DAILY_STRESS']"
      ]
    },
    {
      "cell_type": "markdown",
      "metadata": {},
      "source": [
        "To give us our best chance let's take into account feature importance and get rid of features that aren't helpful."
      ]
    },
    {
      "cell_type": "markdown",
      "metadata": {},
      "source": [
        "Unfortunately, feature importance is not defined for the KNN Classification algorithm. Although not specifically fit for this algorithm, we can try use the feature_importances_ attribute of a random forest classifier. This gives us the most important features for the entire model, just not specifically on the sample we are predicting."
      ]
    },
    {
      "cell_type": "code",
      "execution_count": 371,
      "metadata": {},
      "outputs": [
        {
          "name": "stdout",
          "output_type": "stream",
          "text": [
            "                    feature  importance\n",
            "21  WORK_LIFE_BALANCE_SCORE    0.101690\n",
            "10              DAILY_STEPS    0.054411\n",
            "14           DAILY_SHOUTING    0.053540\n",
            "8            TODO_COMPLETED    0.053486\n",
            "2               CORE_CIRCLE    0.052099\n",
            "5               ACHIEVEMENT    0.051815\n",
            "16          PERSONAL_AWARDS    0.051529\n",
            "1            PLACES_VISITED    0.051305\n",
            "3         SUPPORTING_OTHERS    0.050665\n",
            "9                      FLOW    0.050022\n",
            "17         TIME_FOR_PASSION    0.049620\n",
            "11              LIVE_VISION    0.048808\n",
            "4            SOCIAL_NETWORK    0.047951\n",
            "18        WEEKLY_MEDITATION    0.047846\n",
            "0            FRUITS_VEGGIES    0.041966\n",
            "6                  DONATION    0.040751\n",
            "12              SLEEP_HOURS    0.039372\n",
            "13            LOST_VACATION    0.036463\n",
            "19                      AGE    0.033097\n",
            "7                 BMI_RANGE    0.016190\n",
            "20                   GENDER    0.014751\n",
            "15        SUFFICIENT_INCOME    0.012624\n"
          ]
        }
      ],
      "source": [
        "from sklearn.ensemble import RandomForestClassifier\n",
        "\n",
        "model = RandomForestClassifier()\n",
        "model.fit(X, y)\n",
        "\n",
        "importances = model.feature_importances_\n",
        "feature_importances = pd.DataFrame({\"feature\": X.columns, \"importance\": importances})\n",
        "feature_importances = feature_importances.sort_values(\"importance\", ascending=False)\n",
        "\n",
        "print(feature_importances)"
      ]
    },
    {
      "cell_type": "markdown",
      "metadata": {},
      "source": [
        "Let's make use of the half most important features!"
      ]
    },
    {
      "cell_type": "code",
      "execution_count": 372,
      "metadata": {},
      "outputs": [
        {
          "name": "stdout",
          "output_type": "stream",
          "text": [
            "                    feature  importance\n",
            "21  WORK_LIFE_BALANCE_SCORE    0.101690\n",
            "10              DAILY_STEPS    0.054411\n",
            "14           DAILY_SHOUTING    0.053540\n",
            "8            TODO_COMPLETED    0.053486\n",
            "2               CORE_CIRCLE    0.052099\n",
            "5               ACHIEVEMENT    0.051815\n",
            "16          PERSONAL_AWARDS    0.051529\n",
            "1            PLACES_VISITED    0.051305\n",
            "3         SUPPORTING_OTHERS    0.050665\n",
            "9                      FLOW    0.050022\n",
            "17         TIME_FOR_PASSION    0.049620\n"
          ]
        }
      ],
      "source": [
        "num_top_features = len(feature_importances) // 2\n",
        "top_features = feature_importances.nlargest(num_top_features, 'importance')\n",
        "\n",
        "print(top_features)\n",
        "\n",
        "# Create a new DataFrame with only the top features\n",
        "X_top_features = X[top_features['feature']]"
      ]
    },
    {
      "cell_type": "code",
      "execution_count": 373,
      "metadata": {},
      "outputs": [
        {
          "name": "stdout",
          "output_type": "stream",
          "text": [
            "[[ 0.2        -0.6         0.         ... -0.33333333 -1.\n",
            "  -0.23868313]\n",
            " [-0.2        -0.2        -0.4        ... -0.33333333 -1.\n",
            "   0.03233392]\n",
            " [-0.2        -0.4        -0.2        ... -0.33333333 -1.\n",
            "  -0.10875955]\n",
            " ...\n",
            " [ 0.6        -1.          1.         ... -1.          1.\n",
            "   0.3909465 ]\n",
            " [-0.6         1.          0.6        ... -1.         -1.\n",
            "   0.18753674]\n",
            " [ 1.         -1.         -0.6        ... -1.         -1.\n",
            "   0.00764256]]\n"
          ]
        }
      ],
      "source": [
        "# Scaling the features\n",
        "scaler = MinMaxScaler(feature_range=(-1, 1))\n",
        "X_scaled = scaler.fit_transform(X)\n",
        "\n",
        "print(X_scaled)"
      ]
    },
    {
      "cell_type": "code",
      "execution_count": 374,
      "metadata": {},
      "outputs": [
        {
          "name": "stdout",
          "output_type": "stream",
          "text": [
            "(11180, 22)\n",
            "(4792, 22)\n"
          ]
        }
      ],
      "source": [
        "X_train, x_test, y_train, y_test = train_test_split(X_scaled, y, test_size = 0.3, random_state = 99)\n",
        "\n",
        "print(X_train.shape)\n",
        "print(x_test.shape)"
      ]
    },
    {
      "cell_type": "code",
      "execution_count": 375,
      "metadata": {},
      "outputs": [
        {
          "data": {
            "text/html": [
              "<style>#sk-container-id-21 {\n",
              "  /* Definition of color scheme common for light and dark mode */\n",
              "  --sklearn-color-text: black;\n",
              "  --sklearn-color-line: gray;\n",
              "  /* Definition of color scheme for unfitted estimators */\n",
              "  --sklearn-color-unfitted-level-0: #fff5e6;\n",
              "  --sklearn-color-unfitted-level-1: #f6e4d2;\n",
              "  --sklearn-color-unfitted-level-2: #ffe0b3;\n",
              "  --sklearn-color-unfitted-level-3: chocolate;\n",
              "  /* Definition of color scheme for fitted estimators */\n",
              "  --sklearn-color-fitted-level-0: #f0f8ff;\n",
              "  --sklearn-color-fitted-level-1: #d4ebff;\n",
              "  --sklearn-color-fitted-level-2: #b3dbfd;\n",
              "  --sklearn-color-fitted-level-3: cornflowerblue;\n",
              "\n",
              "  /* Specific color for light theme */\n",
              "  --sklearn-color-text-on-default-background: var(--sg-text-color, var(--theme-code-foreground, var(--jp-content-font-color1, black)));\n",
              "  --sklearn-color-background: var(--sg-background-color, var(--theme-background, var(--jp-layout-color0, white)));\n",
              "  --sklearn-color-border-box: var(--sg-text-color, var(--theme-code-foreground, var(--jp-content-font-color1, black)));\n",
              "  --sklearn-color-icon: #696969;\n",
              "\n",
              "  @media (prefers-color-scheme: dark) {\n",
              "    /* Redefinition of color scheme for dark theme */\n",
              "    --sklearn-color-text-on-default-background: var(--sg-text-color, var(--theme-code-foreground, var(--jp-content-font-color1, white)));\n",
              "    --sklearn-color-background: var(--sg-background-color, var(--theme-background, var(--jp-layout-color0, #111)));\n",
              "    --sklearn-color-border-box: var(--sg-text-color, var(--theme-code-foreground, var(--jp-content-font-color1, white)));\n",
              "    --sklearn-color-icon: #878787;\n",
              "  }\n",
              "}\n",
              "\n",
              "#sk-container-id-21 {\n",
              "  color: var(--sklearn-color-text);\n",
              "}\n",
              "\n",
              "#sk-container-id-21 pre {\n",
              "  padding: 0;\n",
              "}\n",
              "\n",
              "#sk-container-id-21 input.sk-hidden--visually {\n",
              "  border: 0;\n",
              "  clip: rect(1px 1px 1px 1px);\n",
              "  clip: rect(1px, 1px, 1px, 1px);\n",
              "  height: 1px;\n",
              "  margin: -1px;\n",
              "  overflow: hidden;\n",
              "  padding: 0;\n",
              "  position: absolute;\n",
              "  width: 1px;\n",
              "}\n",
              "\n",
              "#sk-container-id-21 div.sk-dashed-wrapped {\n",
              "  border: 1px dashed var(--sklearn-color-line);\n",
              "  margin: 0 0.4em 0.5em 0.4em;\n",
              "  box-sizing: border-box;\n",
              "  padding-bottom: 0.4em;\n",
              "  background-color: var(--sklearn-color-background);\n",
              "}\n",
              "\n",
              "#sk-container-id-21 div.sk-container {\n",
              "  /* jupyter's `normalize.less` sets `[hidden] { display: none; }`\n",
              "     but bootstrap.min.css set `[hidden] { display: none !important; }`\n",
              "     so we also need the `!important` here to be able to override the\n",
              "     default hidden behavior on the sphinx rendered scikit-learn.org.\n",
              "     See: https://github.com/scikit-learn/scikit-learn/issues/21755 */\n",
              "  display: inline-block !important;\n",
              "  position: relative;\n",
              "}\n",
              "\n",
              "#sk-container-id-21 div.sk-text-repr-fallback {\n",
              "  display: none;\n",
              "}\n",
              "\n",
              "div.sk-parallel-item,\n",
              "div.sk-serial,\n",
              "div.sk-item {\n",
              "  /* draw centered vertical line to link estimators */\n",
              "  background-image: linear-gradient(var(--sklearn-color-text-on-default-background), var(--sklearn-color-text-on-default-background));\n",
              "  background-size: 2px 100%;\n",
              "  background-repeat: no-repeat;\n",
              "  background-position: center center;\n",
              "}\n",
              "\n",
              "/* Parallel-specific style estimator block */\n",
              "\n",
              "#sk-container-id-21 div.sk-parallel-item::after {\n",
              "  content: \"\";\n",
              "  width: 100%;\n",
              "  border-bottom: 2px solid var(--sklearn-color-text-on-default-background);\n",
              "  flex-grow: 1;\n",
              "}\n",
              "\n",
              "#sk-container-id-21 div.sk-parallel {\n",
              "  display: flex;\n",
              "  align-items: stretch;\n",
              "  justify-content: center;\n",
              "  background-color: var(--sklearn-color-background);\n",
              "  position: relative;\n",
              "}\n",
              "\n",
              "#sk-container-id-21 div.sk-parallel-item {\n",
              "  display: flex;\n",
              "  flex-direction: column;\n",
              "}\n",
              "\n",
              "#sk-container-id-21 div.sk-parallel-item:first-child::after {\n",
              "  align-self: flex-end;\n",
              "  width: 50%;\n",
              "}\n",
              "\n",
              "#sk-container-id-21 div.sk-parallel-item:last-child::after {\n",
              "  align-self: flex-start;\n",
              "  width: 50%;\n",
              "}\n",
              "\n",
              "#sk-container-id-21 div.sk-parallel-item:only-child::after {\n",
              "  width: 0;\n",
              "}\n",
              "\n",
              "/* Serial-specific style estimator block */\n",
              "\n",
              "#sk-container-id-21 div.sk-serial {\n",
              "  display: flex;\n",
              "  flex-direction: column;\n",
              "  align-items: center;\n",
              "  background-color: var(--sklearn-color-background);\n",
              "  padding-right: 1em;\n",
              "  padding-left: 1em;\n",
              "}\n",
              "\n",
              "\n",
              "/* Toggleable style: style used for estimator/Pipeline/ColumnTransformer box that is\n",
              "clickable and can be expanded/collapsed.\n",
              "- Pipeline and ColumnTransformer use this feature and define the default style\n",
              "- Estimators will overwrite some part of the style using the `sk-estimator` class\n",
              "*/\n",
              "\n",
              "/* Pipeline and ColumnTransformer style (default) */\n",
              "\n",
              "#sk-container-id-21 div.sk-toggleable {\n",
              "  /* Default theme specific background. It is overwritten whether we have a\n",
              "  specific estimator or a Pipeline/ColumnTransformer */\n",
              "  background-color: var(--sklearn-color-background);\n",
              "}\n",
              "\n",
              "/* Toggleable label */\n",
              "#sk-container-id-21 label.sk-toggleable__label {\n",
              "  cursor: pointer;\n",
              "  display: block;\n",
              "  width: 100%;\n",
              "  margin-bottom: 0;\n",
              "  padding: 0.5em;\n",
              "  box-sizing: border-box;\n",
              "  text-align: center;\n",
              "}\n",
              "\n",
              "#sk-container-id-21 label.sk-toggleable__label-arrow:before {\n",
              "  /* Arrow on the left of the label */\n",
              "  content: \"▸\";\n",
              "  float: left;\n",
              "  margin-right: 0.25em;\n",
              "  color: var(--sklearn-color-icon);\n",
              "}\n",
              "\n",
              "#sk-container-id-21 label.sk-toggleable__label-arrow:hover:before {\n",
              "  color: var(--sklearn-color-text);\n",
              "}\n",
              "\n",
              "/* Toggleable content - dropdown */\n",
              "\n",
              "#sk-container-id-21 div.sk-toggleable__content {\n",
              "  max-height: 0;\n",
              "  max-width: 0;\n",
              "  overflow: hidden;\n",
              "  text-align: left;\n",
              "  /* unfitted */\n",
              "  background-color: var(--sklearn-color-unfitted-level-0);\n",
              "}\n",
              "\n",
              "#sk-container-id-21 div.sk-toggleable__content.fitted {\n",
              "  /* fitted */\n",
              "  background-color: var(--sklearn-color-fitted-level-0);\n",
              "}\n",
              "\n",
              "#sk-container-id-21 div.sk-toggleable__content pre {\n",
              "  margin: 0.2em;\n",
              "  border-radius: 0.25em;\n",
              "  color: var(--sklearn-color-text);\n",
              "  /* unfitted */\n",
              "  background-color: var(--sklearn-color-unfitted-level-0);\n",
              "}\n",
              "\n",
              "#sk-container-id-21 div.sk-toggleable__content.fitted pre {\n",
              "  /* unfitted */\n",
              "  background-color: var(--sklearn-color-fitted-level-0);\n",
              "}\n",
              "\n",
              "#sk-container-id-21 input.sk-toggleable__control:checked~div.sk-toggleable__content {\n",
              "  /* Expand drop-down */\n",
              "  max-height: 200px;\n",
              "  max-width: 100%;\n",
              "  overflow: auto;\n",
              "}\n",
              "\n",
              "#sk-container-id-21 input.sk-toggleable__control:checked~label.sk-toggleable__label-arrow:before {\n",
              "  content: \"▾\";\n",
              "}\n",
              "\n",
              "/* Pipeline/ColumnTransformer-specific style */\n",
              "\n",
              "#sk-container-id-21 div.sk-label input.sk-toggleable__control:checked~label.sk-toggleable__label {\n",
              "  color: var(--sklearn-color-text);\n",
              "  background-color: var(--sklearn-color-unfitted-level-2);\n",
              "}\n",
              "\n",
              "#sk-container-id-21 div.sk-label.fitted input.sk-toggleable__control:checked~label.sk-toggleable__label {\n",
              "  background-color: var(--sklearn-color-fitted-level-2);\n",
              "}\n",
              "\n",
              "/* Estimator-specific style */\n",
              "\n",
              "/* Colorize estimator box */\n",
              "#sk-container-id-21 div.sk-estimator input.sk-toggleable__control:checked~label.sk-toggleable__label {\n",
              "  /* unfitted */\n",
              "  background-color: var(--sklearn-color-unfitted-level-2);\n",
              "}\n",
              "\n",
              "#sk-container-id-21 div.sk-estimator.fitted input.sk-toggleable__control:checked~label.sk-toggleable__label {\n",
              "  /* fitted */\n",
              "  background-color: var(--sklearn-color-fitted-level-2);\n",
              "}\n",
              "\n",
              "#sk-container-id-21 div.sk-label label.sk-toggleable__label,\n",
              "#sk-container-id-21 div.sk-label label {\n",
              "  /* The background is the default theme color */\n",
              "  color: var(--sklearn-color-text-on-default-background);\n",
              "}\n",
              "\n",
              "/* On hover, darken the color of the background */\n",
              "#sk-container-id-21 div.sk-label:hover label.sk-toggleable__label {\n",
              "  color: var(--sklearn-color-text);\n",
              "  background-color: var(--sklearn-color-unfitted-level-2);\n",
              "}\n",
              "\n",
              "/* Label box, darken color on hover, fitted */\n",
              "#sk-container-id-21 div.sk-label.fitted:hover label.sk-toggleable__label.fitted {\n",
              "  color: var(--sklearn-color-text);\n",
              "  background-color: var(--sklearn-color-fitted-level-2);\n",
              "}\n",
              "\n",
              "/* Estimator label */\n",
              "\n",
              "#sk-container-id-21 div.sk-label label {\n",
              "  font-family: monospace;\n",
              "  font-weight: bold;\n",
              "  display: inline-block;\n",
              "  line-height: 1.2em;\n",
              "}\n",
              "\n",
              "#sk-container-id-21 div.sk-label-container {\n",
              "  text-align: center;\n",
              "}\n",
              "\n",
              "/* Estimator-specific */\n",
              "#sk-container-id-21 div.sk-estimator {\n",
              "  font-family: monospace;\n",
              "  border: 1px dotted var(--sklearn-color-border-box);\n",
              "  border-radius: 0.25em;\n",
              "  box-sizing: border-box;\n",
              "  margin-bottom: 0.5em;\n",
              "  /* unfitted */\n",
              "  background-color: var(--sklearn-color-unfitted-level-0);\n",
              "}\n",
              "\n",
              "#sk-container-id-21 div.sk-estimator.fitted {\n",
              "  /* fitted */\n",
              "  background-color: var(--sklearn-color-fitted-level-0);\n",
              "}\n",
              "\n",
              "/* on hover */\n",
              "#sk-container-id-21 div.sk-estimator:hover {\n",
              "  /* unfitted */\n",
              "  background-color: var(--sklearn-color-unfitted-level-2);\n",
              "}\n",
              "\n",
              "#sk-container-id-21 div.sk-estimator.fitted:hover {\n",
              "  /* fitted */\n",
              "  background-color: var(--sklearn-color-fitted-level-2);\n",
              "}\n",
              "\n",
              "/* Specification for estimator info (e.g. \"i\" and \"?\") */\n",
              "\n",
              "/* Common style for \"i\" and \"?\" */\n",
              "\n",
              ".sk-estimator-doc-link,\n",
              "a:link.sk-estimator-doc-link,\n",
              "a:visited.sk-estimator-doc-link {\n",
              "  float: right;\n",
              "  font-size: smaller;\n",
              "  line-height: 1em;\n",
              "  font-family: monospace;\n",
              "  background-color: var(--sklearn-color-background);\n",
              "  border-radius: 1em;\n",
              "  height: 1em;\n",
              "  width: 1em;\n",
              "  text-decoration: none !important;\n",
              "  margin-left: 1ex;\n",
              "  /* unfitted */\n",
              "  border: var(--sklearn-color-unfitted-level-1) 1pt solid;\n",
              "  color: var(--sklearn-color-unfitted-level-1);\n",
              "}\n",
              "\n",
              ".sk-estimator-doc-link.fitted,\n",
              "a:link.sk-estimator-doc-link.fitted,\n",
              "a:visited.sk-estimator-doc-link.fitted {\n",
              "  /* fitted */\n",
              "  border: var(--sklearn-color-fitted-level-1) 1pt solid;\n",
              "  color: var(--sklearn-color-fitted-level-1);\n",
              "}\n",
              "\n",
              "/* On hover */\n",
              "div.sk-estimator:hover .sk-estimator-doc-link:hover,\n",
              ".sk-estimator-doc-link:hover,\n",
              "div.sk-label-container:hover .sk-estimator-doc-link:hover,\n",
              ".sk-estimator-doc-link:hover {\n",
              "  /* unfitted */\n",
              "  background-color: var(--sklearn-color-unfitted-level-3);\n",
              "  color: var(--sklearn-color-background);\n",
              "  text-decoration: none;\n",
              "}\n",
              "\n",
              "div.sk-estimator.fitted:hover .sk-estimator-doc-link.fitted:hover,\n",
              ".sk-estimator-doc-link.fitted:hover,\n",
              "div.sk-label-container:hover .sk-estimator-doc-link.fitted:hover,\n",
              ".sk-estimator-doc-link.fitted:hover {\n",
              "  /* fitted */\n",
              "  background-color: var(--sklearn-color-fitted-level-3);\n",
              "  color: var(--sklearn-color-background);\n",
              "  text-decoration: none;\n",
              "}\n",
              "\n",
              "/* Span, style for the box shown on hovering the info icon */\n",
              ".sk-estimator-doc-link span {\n",
              "  display: none;\n",
              "  z-index: 9999;\n",
              "  position: relative;\n",
              "  font-weight: normal;\n",
              "  right: .2ex;\n",
              "  padding: .5ex;\n",
              "  margin: .5ex;\n",
              "  width: min-content;\n",
              "  min-width: 20ex;\n",
              "  max-width: 50ex;\n",
              "  color: var(--sklearn-color-text);\n",
              "  box-shadow: 2pt 2pt 4pt #999;\n",
              "  /* unfitted */\n",
              "  background: var(--sklearn-color-unfitted-level-0);\n",
              "  border: .5pt solid var(--sklearn-color-unfitted-level-3);\n",
              "}\n",
              "\n",
              ".sk-estimator-doc-link.fitted span {\n",
              "  /* fitted */\n",
              "  background: var(--sklearn-color-fitted-level-0);\n",
              "  border: var(--sklearn-color-fitted-level-3);\n",
              "}\n",
              "\n",
              ".sk-estimator-doc-link:hover span {\n",
              "  display: block;\n",
              "}\n",
              "\n",
              "/* \"?\"-specific style due to the `<a>` HTML tag */\n",
              "\n",
              "#sk-container-id-21 a.estimator_doc_link {\n",
              "  float: right;\n",
              "  font-size: 1rem;\n",
              "  line-height: 1em;\n",
              "  font-family: monospace;\n",
              "  background-color: var(--sklearn-color-background);\n",
              "  border-radius: 1rem;\n",
              "  height: 1rem;\n",
              "  width: 1rem;\n",
              "  text-decoration: none;\n",
              "  /* unfitted */\n",
              "  color: var(--sklearn-color-unfitted-level-1);\n",
              "  border: var(--sklearn-color-unfitted-level-1) 1pt solid;\n",
              "}\n",
              "\n",
              "#sk-container-id-21 a.estimator_doc_link.fitted {\n",
              "  /* fitted */\n",
              "  border: var(--sklearn-color-fitted-level-1) 1pt solid;\n",
              "  color: var(--sklearn-color-fitted-level-1);\n",
              "}\n",
              "\n",
              "/* On hover */\n",
              "#sk-container-id-21 a.estimator_doc_link:hover {\n",
              "  /* unfitted */\n",
              "  background-color: var(--sklearn-color-unfitted-level-3);\n",
              "  color: var(--sklearn-color-background);\n",
              "  text-decoration: none;\n",
              "}\n",
              "\n",
              "#sk-container-id-21 a.estimator_doc_link.fitted:hover {\n",
              "  /* fitted */\n",
              "  background-color: var(--sklearn-color-fitted-level-3);\n",
              "}\n",
              "</style><div id=\"sk-container-id-21\" class=\"sk-top-container\"><div class=\"sk-text-repr-fallback\"><pre>KNeighborsClassifier()</pre><b>In a Jupyter environment, please rerun this cell to show the HTML representation or trust the notebook. <br />On GitHub, the HTML representation is unable to render, please try loading this page with nbviewer.org.</b></div><div class=\"sk-container\" hidden><div class=\"sk-item\"><div class=\"sk-estimator fitted sk-toggleable\"><input class=\"sk-toggleable__control sk-hidden--visually\" id=\"sk-estimator-id-21\" type=\"checkbox\" checked><label for=\"sk-estimator-id-21\" class=\"sk-toggleable__label fitted sk-toggleable__label-arrow fitted\">&nbsp;&nbsp;KNeighborsClassifier<a class=\"sk-estimator-doc-link fitted\" rel=\"noreferrer\" target=\"_blank\" href=\"https://scikit-learn.org/1.4/modules/generated/sklearn.neighbors.KNeighborsClassifier.html\">?<span>Documentation for KNeighborsClassifier</span></a><span class=\"sk-estimator-doc-link fitted\">i<span>Fitted</span></span></label><div class=\"sk-toggleable__content fitted\"><pre>KNeighborsClassifier()</pre></div> </div></div></div></div>"
            ],
            "text/plain": [
              "KNeighborsClassifier()"
            ]
          },
          "execution_count": 375,
          "metadata": {},
          "output_type": "execute_result"
        }
      ],
      "source": [
        "# Let's try with 5 neighbors\n",
        "knn = KNeighborsClassifier(n_neighbors=5)\n",
        "knn.fit(X_train, y_train)"
      ]
    },
    {
      "cell_type": "code",
      "execution_count": 376,
      "metadata": {},
      "outputs": [
        {
          "data": {
            "text/plain": [
              "Text(113.9222222222222, 0.5, 'True Value')"
            ]
          },
          "execution_count": 376,
          "metadata": {},
          "output_type": "execute_result"
        },
        {
          "data": {
            "image/png": "[encoded data removed]",
            "text/plain": [
              "<Figure size 640x480 with 1 Axes>"
            ]
          },
          "metadata": {},
          "output_type": "display_data"
        }
      ],
      "source": [
        "y_pred = knn.predict(x_test)\n",
        "mat1 = confusion_matrix(y_test, y_pred)\n",
        "sns.heatmap(mat1, square = True, annot = True, cbar = False)\n",
        "plt.xlabel('Predicted Value')\n",
        "plt.ylabel('True Value')\n",
        "# print(confusion_matrix(y_test, y_pred))"
      ]
    },
    {
      "cell_type": "markdown",
      "metadata": {},
      "source": [
        "The confusion matrix looks kinda weird..."
      ]
    },
    {
      "cell_type": "code",
      "execution_count": 377,
      "metadata": {},
      "outputs": [
        {
          "name": "stdout",
          "output_type": "stream",
          "text": [
            "              precision    recall  f1-score   support\n",
            "\n",
            "         0.0       0.10      0.07      0.08       208\n",
            "         1.0       0.22      0.29      0.25       725\n",
            "         2.0       0.26      0.31      0.28      1061\n",
            "         3.0       0.31      0.36      0.33      1297\n",
            "         4.0       0.23      0.18      0.20       870\n",
            "         5.0       0.36      0.13      0.19       631\n",
            "\n",
            "    accuracy                           0.26      4792\n",
            "   macro avg       0.25      0.22      0.22      4792\n",
            "weighted avg       0.27      0.26      0.26      4792\n",
            "\n"
          ]
        }
      ],
      "source": [
        "print(classification_report(y_test,y_pred))"
      ]
    },
    {
      "cell_type": "markdown",
      "metadata": {},
      "source": [
        "Wow a 0.26 accuracy! maybe we can try different values of k to see if we can do better."
      ]
    },
    {
      "cell_type": "code",
      "execution_count": 378,
      "metadata": {},
      "outputs": [],
      "source": [
        "error_rate = []\n",
        "\n",
        "for i in range(1,40):\n",
        "    knn = KNeighborsClassifier(n_neighbors=i)\n",
        "    knn.fit(X_train, y_train)\n",
        "    pred_i = knn.predict(x_test)\n",
        "    error_rate.append(np.mean(pred_i != y_test))"
      ]
    },
    {
      "cell_type": "code",
      "execution_count": 379,
      "metadata": {},
      "outputs": [
        {
          "data": {
            "text/plain": [
              "Text(0, 0.5, 'Error Rate')"
            ]
          },
          "execution_count": 379,
          "metadata": {},
          "output_type": "execute_result"
        },
        {
          "data": {
            "image/png": "[encoded data removed]",
            "text/plain": [
              "<Figure size 1000x600 with 1 Axes>"
            ]
          },
          "metadata": {},
          "output_type": "display_data"
        }
      ],
      "source": [
        "plt.figure(figsize=(10,6))\n",
        "plt.plot(range(1,40),error_rate,color='blue', linestyle='dashed', marker='o',\n",
        "         markerfacecolor='red', markersize=10)\n",
        "plt.title('Error Rate vs. K Value')\n",
        "plt.xlabel('K')\n",
        "plt.ylabel('Error Rate')"
      ]
    },
    {
      "cell_type": "markdown",
      "metadata": {},
      "source": [
        "On the bright side we can pretty accurately predict what isn't their stress level?"
      ]
    },
    {
      "cell_type": "markdown",
      "metadata": {},
      "source": [
        "Let's try a different model! How about neural networks."
      ]
    },
    {
      "cell_type": "code",
      "execution_count": 380,
      "metadata": {},
      "outputs": [
        {
          "name": "stdout",
          "output_type": "stream",
          "text": [
            "              precision    recall  f1-score   support\n",
            "\n",
            "         0.0       1.00      1.00      1.00       208\n",
            "         1.0       1.00      1.00      1.00       725\n",
            "         2.0       1.00      1.00      1.00      1061\n",
            "         3.0       1.00      1.00      1.00      1297\n",
            "         4.0       1.00      1.00      1.00       870\n",
            "         5.0       1.00      1.00      1.00       631\n",
            "\n",
            "    accuracy                           1.00      4792\n",
            "   macro avg       1.00      1.00      1.00      4792\n",
            "weighted avg       1.00      1.00      1.00      4792\n",
            "\n"
          ]
        }
      ],
      "source": [
        "from sklearn.neural_network import MLPClassifier\n",
        "\n",
        "mlp = MLPClassifier(hidden_layer_sizes=(5),max_iter=10000,learning_rate_init=0.001,activation='tanh')\n",
        "mlp.fit(X_train, y_train)\n",
        "\n",
        "predictions = mlp.predict(x_test)\n",
        "print(classification_report(y_test, predictions))"
      ]
    },
    {
      "cell_type": "markdown",
      "metadata": {},
      "source": [
        "Wow what a difference! perfect accuracy!"
      ]
    },
    {
      "cell_type": "code",
      "execution_count": 381,
      "metadata": {},
      "outputs": [
        {
          "data": {
            "text/plain": [
              "Text(113.9222222222222, 0.5, 'True Value')"
            ]
          },
          "execution_count": 381,
          "metadata": {},
          "output_type": "execute_result"
        },
        {
          "data": {
            "image/png": "[encoded data removed]",
            "text/plain": [
              "<Figure size 640x480 with 1 Axes>"
            ]
          },
          "metadata": {},
          "output_type": "display_data"
        }
      ],
      "source": [
        "mat = confusion_matrix(y_test, predictions)\n",
        "sns.heatmap(mat, square = True, annot = True, cbar = False)\n",
        "plt.xlabel('Predicted Value')\n",
        "plt.ylabel('True Value')"
      ]
    }
  ],
  "metadata": {
    "colab": {
      "provenance": []
    },
    "kernelspec": {
      "display_name": "Python 3",
      "name": "python3"
    },
    "language_info": {
      "codemirror_mode": {
        "name": "ipython",
        "version": 3
      },
      "file_extension": ".py",
      "mimetype": "text/x-python",
      "name": "python",
      "nbconvert_exporter": "python",
      "pygments_lexer": "ipython3",
      "version": "3.12.2"
    }
  },
  "nbformat": 4,
  "nbformat_minor": 0
}
